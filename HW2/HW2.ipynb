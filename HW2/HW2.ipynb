{
 "cells": [
  {
   "cell_type": "code",
   "execution_count": 1,
   "metadata": {
    "collapsed": true
   },
   "outputs": [
    {
     "name": "stdout",
     "output_type": "stream",
     "text": [
      "/home/andrey/PycharmProjects/Made\n",
      "/home/andrey/PycharmProjects/Made/2sem/nikolenko/advanced-ml-2022-main/HW2\n"
     ]
    }
   ],
   "source": [
    "import pickle\n",
    "import pandas as pd\n",
    "from tqdm import tqdm\n",
    "import os\n",
    "from collections import defaultdict, Counter\n",
    "from scipy import sparse, stats\n",
    "import numpy as np\n",
    "from sklearn.linear_model import LogisticRegression\n",
    "import json\n",
    "from copy import copy\n",
    "from scipy.special import expit\n",
    "import matplotlib.pyplot as plt\n",
    "\n",
    "print(os.getcwd())\n",
    "os.chdir(\"2sem/nikolenko/advanced-ml-2022-main/HW2\")\n",
    "print(os.getcwd())"
   ]
  },
  {
   "cell_type": "markdown",
   "source": [
    "# 1. Data Overview\n",
    "\n",
    "Прочитайте и проанализируйте данные, выберите турниры, в которых есть данные о составах команд и повопросных результатах (поле mask в results.pkl). Для унификации предлагаю:\n",
    "взять в тренировочный набор турниры с dateStart из 2019 года;\n",
    "в тестовый — турниры с dateStart из 2020 года.\n"
   ],
   "metadata": {
    "collapsed": false,
    "pycharm": {
     "name": "#%% md\n"
    }
   }
  },
  {
   "cell_type": "code",
   "execution_count": 11,
   "outputs": [
    {
     "name": "stdout",
     "output_type": "stream",
     "text": [
      "/home/andrey/PycharmProjects/Made/2sem/nikolenko/advanced-ml-2022-main/HW2\n"
     ]
    }
   ],
   "source": [
    "print(os.getcwd())\n",
    "\n",
    "with open(\"tournaments.pkl\", \"rb\") as f:\n",
    "    tournaments = pickle.load(f)\n",
    "\n",
    "with open(\"results.pkl\", \"rb\") as f:\n",
    "    results = pickle.load(f)\n",
    "\n",
    "with open('players.pkl', 'rb') as f:\n",
    "    players = pickle.load(f)\n"
   ],
   "metadata": {
    "collapsed": false,
    "pycharm": {
     "name": "#%%\n"
    }
   }
  },
  {
   "cell_type": "markdown",
   "source": [
    "Choose correct tournaments from tournaments"
   ],
   "metadata": {
    "collapsed": false,
    "pycharm": {
     "name": "#%% md\n"
    }
   }
  },
  {
   "cell_type": "code",
   "execution_count": 12,
   "outputs": [
    {
     "name": "stdout",
     "output_type": "stream",
     "text": [
      "[4772, 4973, 4974, 4975, 4986, 5000, 5008, 5009, 5010, 5011]\n",
      "[4628, 4957, 5151, 5414, 5477, 5619, 5670, 5694, 5707, 5708]\n"
     ]
    }
   ],
   "source": [
    "train_tournaments_ids = []\n",
    "test_tournaments_ids = []\n",
    "\n",
    "train_start_date = pd.to_datetime(\"2019/01/01 00:00:00\", utc=True)\n",
    "train_end_date = pd.to_datetime(\"2019/12/31 23:59:59\", utc=True)\n",
    "\n",
    "test_start_date = pd.to_datetime(\"2020/01/01 00:00:00\", utc=True)\n",
    "test_end_date = pd.to_datetime(\"2020/12/31 23:59:59\", utc=True)\n",
    "\n",
    "for key, val in tournaments.items():\n",
    "    if train_end_date >= pd.to_datetime(val[\"dateStart\"]) >= train_start_date:\n",
    "        train_tournaments_ids.append(val[\"id\"])\n",
    "    elif test_end_date >= pd.to_datetime(val[\"dateStart\"]) >= test_start_date:\n",
    "        test_tournaments_ids.append(val[\"id\"])\n",
    "\n",
    "print(train_tournaments_ids[:10])\n",
    "print(test_tournaments_ids[:10])\n"
   ],
   "metadata": {
    "collapsed": false,
    "pycharm": {
     "name": "#%%\n"
    }
   }
  },
  {
   "cell_type": "code",
   "execution_count": 23,
   "outputs": [],
   "source": [
    "train_dataset = []\n",
    "\n",
    "for ind in train_tournaments_ids:\n",
    "    val = results[ind]\n",
    "    small_train = {\"id\" : ind}\n",
    "    small_teams = []\n",
    "    #print(small_train)\n",
    "    for single_team in val:\n",
    "        single_rec = {}\n",
    "        single_rec[\"id\"] = single_team[\"team\"][\"id\"]\n",
    "        team_members = single_team.get(\"teamMembers\")\n",
    "        mask = single_team.get(\"mask\")\n",
    "        if (not mask is None) and (not team_members is None):\n",
    "            single_rec[\"mask\"] = [int(el) if el.isnumeric() else 0 for el in mask]\n",
    "            if single_rec[\"mask\"][0] is None:\n",
    "                break\n",
    "            players_list = []\n",
    "            for pl in single_team[\"teamMembers\"]:\n",
    "                players_list.append(pl[\"player\"][\"id\"])\n",
    "            single_rec[\"members\"] = players_list\n",
    "            small_teams.append(single_rec)\n",
    "\n",
    "    if small_teams != []:\n",
    "        small_train[\"teams\"] = small_teams\n",
    "        train_dataset.append(small_train)\n",
    "\n",
    "    #break"
   ],
   "metadata": {
    "collapsed": false,
    "pycharm": {
     "name": "#%%\n"
    }
   }
  },
  {
   "cell_type": "code",
   "execution_count": 13,
   "outputs": [],
   "source": [
    "test_dataset = []\n",
    "\n",
    "for ind in test_tournaments_ids:\n",
    "    val = results[ind]\n",
    "    small_train = {\"id\" : ind}\n",
    "    small_teams = []\n",
    "    #print(small_train)\n",
    "    for single_team in val:\n",
    "        single_rec = {}\n",
    "        single_rec[\"id\"] = single_team[\"team\"][\"id\"]\n",
    "        team_members = single_team.get(\"teamMembers\")\n",
    "        mask = single_team.get(\"mask\")\n",
    "        if (not mask is None) and (not team_members is None):\n",
    "            single_rec[\"mask\"] = [int(el) if el.isnumeric() else 0 for el in mask]\n",
    "            if single_rec[\"mask\"][0] is None:\n",
    "                break\n",
    "            players_list = []\n",
    "            for pl in single_team[\"teamMembers\"]:\n",
    "                players_list.append(pl[\"player\"][\"id\"])\n",
    "            single_rec[\"members\"] = players_list\n",
    "            small_teams.append(single_rec)\n",
    "\n",
    "    if small_teams != []:\n",
    "        small_train[\"teams\"] = small_teams\n",
    "        test_dataset.append(small_train)\n",
    "\n",
    "    #break"
   ],
   "metadata": {
    "collapsed": false,
    "pycharm": {
     "name": "#%%\n"
    }
   }
  },
  {
   "cell_type": "code",
   "execution_count": 14,
   "outputs": [],
   "source": [
    "with open(\"train.json\", \"w\") as file:\n",
    "    json.dump(train_dataset, file)\n",
    "\n",
    "with open(\"test.json\", \"w\") as file:\n",
    "    json.dump(test_dataset, file)"
   ],
   "metadata": {
    "collapsed": false,
    "pycharm": {
     "name": "#%%\n"
    }
   }
  },
  {
   "cell_type": "code",
   "execution_count": 2,
   "outputs": [],
   "source": [
    "with open(\"train.json\", \"r\") as file:\n",
    "    train_dataset = json.load(file)\n",
    "\n",
    "with open(\"test.json\", \"r\") as file:\n",
    "    test_dataset = json.load(file)\n"
   ],
   "metadata": {
    "collapsed": false,
    "pycharm": {
     "name": "#%%\n"
    }
   }
  },
  {
   "cell_type": "code",
   "execution_count": 20,
   "outputs": [],
   "source": [
    "with open(\"tournaments.pkl\", \"rb\") as f:\n",
    "    tournaments = pickle.load(f)"
   ],
   "metadata": {
    "collapsed": false,
    "pycharm": {
     "name": "#%%\n"
    }
   }
  },
  {
   "cell_type": "code",
   "execution_count": 24,
   "outputs": [],
   "source": [
    "with open('players.pkl', 'rb') as f:\n",
    "    players = pickle.load(f)\n",
    "\n",
    "players_names = {}\n",
    "\n",
    "for key, val in players.items():\n",
    "    players_names[val[\"id\"]] = val[\"surname\"] + \" \" + val[\"name\"]\n",
    "\n",
    "sec_players_dict = Counter()\n",
    "answers_counts = defaultdict(list)\n",
    "\n",
    "for tournament in train_dataset:\n",
    "    for team in tournament[\"teams\"]:\n",
    "        small_players = team[\"members\"]\n",
    "        n_questions = len(team[\"mask\"])\n",
    "        for single_player in small_players:\n",
    "            sec_players_dict[single_player] += 1\n",
    "            answers_counts[single_player].append(n_questions)\n",
    "\n",
    "player_to_idx = {player: ind for ind, player in enumerate(sec_players_dict)}\n",
    "\n",
    "n_players = len(players_names)\n",
    "\n",
    "#players_names"
   ],
   "metadata": {
    "collapsed": false,
    "pycharm": {
     "name": "#%%\n"
    }
   }
  },
  {
   "cell_type": "markdown",
   "source": [
    "# 2. Baseline model\n",
    "\n",
    "Постройте baseline-модель на основе линейной или логистической регрессии, которая будет обучать рейтинг-лист игроков. Замечания и подсказки:\n",
    "повопросные результаты — это фактически результаты броска монетки, и их предсказание скорее всего имеет отношение к бинарной классификации;\n",
    "в разных турнирах вопросы совсем разного уровня сложности, поэтому модель должна это учитывать; скорее всего, модель должна будет явно обучать не только силу каждого игрока, но и сложность каждого вопроса;\n",
    "для baseline-модели можно забыть о командах и считать, что повопросные результаты команды просто относятся к каждому из её игроков.\n"
   ],
   "metadata": {
    "collapsed": false,
    "pycharm": {
     "name": "#%% md\n"
    }
   }
  },
  {
   "cell_type": "code",
   "execution_count": 4,
   "outputs": [],
   "source": [
    "y, positions, team_ids, questions_idx = \\\n",
    "    [], [], [], []\n",
    "\n",
    "hor_ind = 0\n",
    "vert_ind = 0\n",
    "\n",
    "for tournament in train_dataset:\n",
    "    for team in tournament[\"teams\"]:\n",
    "        players = team[\"members\"]\n",
    "        mask = team[\"mask\"]\n",
    "        for i, question in enumerate(mask):\n",
    "            questions_idx += [len(player_to_idx) + vert_ind for _ in range(len(players))]\n",
    "            team_ids += [team[\"id\"] for _ in range(len(players))]\n",
    "            for j, player in enumerate(players):\n",
    "                positions.append((hor_ind, player_to_idx[player]))\n",
    "                positions.append((hor_ind, len(player_to_idx) + vert_ind))\n",
    "                hor_ind += 1\n",
    "                y.append(1 if question else 0)\n",
    "            vert_ind += 1\n"
   ],
   "metadata": {
    "collapsed": false,
    "pycharm": {
     "name": "#%%\n"
    }
   }
  },
  {
   "cell_type": "code",
   "execution_count": 5,
   "outputs": [
    {
     "data": {
      "text/plain": "(21112007, 4051626)"
     },
     "execution_count": 5,
     "metadata": {},
     "output_type": "execute_result"
    }
   ],
   "source": [
    "y = np.array(y)\n",
    "X = sparse.lil_matrix((len(y), n_players + vert_ind))\n",
    "for i, j in positions:\n",
    "    X[i, j] = 1\n",
    "\n",
    "X.shape"
   ],
   "metadata": {
    "collapsed": false,
    "pycharm": {
     "name": "#%%\n"
    }
   }
  },
  {
   "cell_type": "code",
   "execution_count": 6,
   "outputs": [
    {
     "data": {
      "text/plain": "LogisticRegression(C=1, solver='saga', tol=0.1)"
     },
     "execution_count": 6,
     "metadata": {},
     "output_type": "execute_result"
    }
   ],
   "source": [
    "logreg = LogisticRegression(tol=1e-1, solver=\"saga\", C=1, penalty=\"l2\", )\n",
    "logreg.fit(X, y)"
   ],
   "metadata": {
    "collapsed": false,
    "pycharm": {
     "name": "#%%\n"
    }
   }
  },
  {
   "cell_type": "code",
   "execution_count": 18,
   "outputs": [
    {
     "data": {
      "text/plain": "       id                name  questions     score\n0   27403        Руссо Максим       2474  2.419816\n1    4270   Брутер Александра       3026  2.383945\n2   28751        Семушин Иван       4118  2.326579\n3   27822    Савченков Михаил       3677  2.229340\n4   30270      Спешков Сергей       4190  2.185041\n5   30152      Сорожкин Артём       5254  2.146120\n6   56647    Горелова Наталья       2357  1.968142\n7    7008       Гилёв Алексей       4827  1.903479\n8   18332     Либер Александр       4127  1.898742\n9   74382    Новосёлов Михаил       3280  1.874220\n10  14786   Коврижных Николай       3416  1.869732\n11  19915    Марков Александр       3106  1.868920\n12  25882      Поташев Максим       2255  1.850606\n13  23737   Островский Андрей       2864  1.846692\n14  23178  Овдеенко Елизавета       2538  1.845969\n15  33456       Фрадис Михаил       2149  1.836618\n16  28689       Семёнова Инна       2876  1.835720\n17  15595  Кораблина Кристина       3103  1.828898\n18   6212        Выменец Юрий       3460  1.812366\n19  31190     Тальянский Илья       2228  1.784639",
      "text/html": "<div>\n<style scoped>\n    .dataframe tbody tr th:only-of-type {\n        vertical-align: middle;\n    }\n\n    .dataframe tbody tr th {\n        vertical-align: top;\n    }\n\n    .dataframe thead th {\n        text-align: right;\n    }\n</style>\n<table border=\"1\" class=\"dataframe\">\n  <thead>\n    <tr style=\"text-align: right;\">\n      <th></th>\n      <th>id</th>\n      <th>name</th>\n      <th>questions</th>\n      <th>score</th>\n    </tr>\n  </thead>\n  <tbody>\n    <tr>\n      <th>0</th>\n      <td>27403</td>\n      <td>Руссо Максим</td>\n      <td>2474</td>\n      <td>2.419816</td>\n    </tr>\n    <tr>\n      <th>1</th>\n      <td>4270</td>\n      <td>Брутер Александра</td>\n      <td>3026</td>\n      <td>2.383945</td>\n    </tr>\n    <tr>\n      <th>2</th>\n      <td>28751</td>\n      <td>Семушин Иван</td>\n      <td>4118</td>\n      <td>2.326579</td>\n    </tr>\n    <tr>\n      <th>3</th>\n      <td>27822</td>\n      <td>Савченков Михаил</td>\n      <td>3677</td>\n      <td>2.229340</td>\n    </tr>\n    <tr>\n      <th>4</th>\n      <td>30270</td>\n      <td>Спешков Сергей</td>\n      <td>4190</td>\n      <td>2.185041</td>\n    </tr>\n    <tr>\n      <th>5</th>\n      <td>30152</td>\n      <td>Сорожкин Артём</td>\n      <td>5254</td>\n      <td>2.146120</td>\n    </tr>\n    <tr>\n      <th>6</th>\n      <td>56647</td>\n      <td>Горелова Наталья</td>\n      <td>2357</td>\n      <td>1.968142</td>\n    </tr>\n    <tr>\n      <th>7</th>\n      <td>7008</td>\n      <td>Гилёв Алексей</td>\n      <td>4827</td>\n      <td>1.903479</td>\n    </tr>\n    <tr>\n      <th>8</th>\n      <td>18332</td>\n      <td>Либер Александр</td>\n      <td>4127</td>\n      <td>1.898742</td>\n    </tr>\n    <tr>\n      <th>9</th>\n      <td>74382</td>\n      <td>Новосёлов Михаил</td>\n      <td>3280</td>\n      <td>1.874220</td>\n    </tr>\n    <tr>\n      <th>10</th>\n      <td>14786</td>\n      <td>Коврижных Николай</td>\n      <td>3416</td>\n      <td>1.869732</td>\n    </tr>\n    <tr>\n      <th>11</th>\n      <td>19915</td>\n      <td>Марков Александр</td>\n      <td>3106</td>\n      <td>1.868920</td>\n    </tr>\n    <tr>\n      <th>12</th>\n      <td>25882</td>\n      <td>Поташев Максим</td>\n      <td>2255</td>\n      <td>1.850606</td>\n    </tr>\n    <tr>\n      <th>13</th>\n      <td>23737</td>\n      <td>Островский Андрей</td>\n      <td>2864</td>\n      <td>1.846692</td>\n    </tr>\n    <tr>\n      <th>14</th>\n      <td>23178</td>\n      <td>Овдеенко Елизавета</td>\n      <td>2538</td>\n      <td>1.845969</td>\n    </tr>\n    <tr>\n      <th>15</th>\n      <td>33456</td>\n      <td>Фрадис Михаил</td>\n      <td>2149</td>\n      <td>1.836618</td>\n    </tr>\n    <tr>\n      <th>16</th>\n      <td>28689</td>\n      <td>Семёнова Инна</td>\n      <td>2876</td>\n      <td>1.835720</td>\n    </tr>\n    <tr>\n      <th>17</th>\n      <td>15595</td>\n      <td>Кораблина Кристина</td>\n      <td>3103</td>\n      <td>1.828898</td>\n    </tr>\n    <tr>\n      <th>18</th>\n      <td>6212</td>\n      <td>Выменец Юрий</td>\n      <td>3460</td>\n      <td>1.812366</td>\n    </tr>\n    <tr>\n      <th>19</th>\n      <td>31190</td>\n      <td>Тальянский Илья</td>\n      <td>2228</td>\n      <td>1.784639</td>\n    </tr>\n  </tbody>\n</table>\n</div>"
     },
     "execution_count": 18,
     "metadata": {},
     "output_type": "execute_result"
    }
   ],
   "source": [
    "N_QUESTIONS = 2000\n",
    "\n",
    "question_rating = logreg.coef_[0][n_players:]\n",
    "rating = logreg.coef_[0][:n_players]\n",
    "rating_list = []\n",
    "for ind, pl in enumerate(player_to_idx):\n",
    "    if sum(answers_counts[pl]) < N_QUESTIONS:\n",
    "        continue\n",
    "    single_rec = {\"id\": pl,\n",
    "                    \"name\": players_names[pl],\n",
    "                    \"questions\": sum(answers_counts[pl]),\n",
    "                    \"score\": rating[ind],\n",
    "    }\n",
    "    rating_list.append(single_rec)\n",
    "\n",
    "sorted_rating = sorted(rating_list, key=lambda x: x['score'], reverse=True)\n",
    "df_rating = pd.DataFrame(sorted_rating)[:50]\n",
    "df_rating.head(20)"
   ],
   "metadata": {
    "collapsed": false,
    "pycharm": {
     "name": "#%%\n"
    }
   }
  },
  {
   "cell_type": "markdown",
   "source": [
    "# 3. Ranking\n",
    "Качество рейтинг-системы оценивается качеством предсказаний результатов турниров. Но сами повопросные результаты наши модели предсказывать вряд ли смогут, ведь неизвестно, насколько сложными окажутся вопросы в будущих турнирах; да и не нужны эти предсказания сами по себе. Поэтому:\n",
    "предложите способ предсказать результаты нового турнира с известными составами, но неизвестными вопросами, в виде ранжирования команд;\n",
    "в качестве метрики качества на тестовом наборе давайте считать ранговые корреляции Спирмена и Кендалла (их можно взять в пакете scipy) между реальным ранжированием в результатах турнира и предсказанным моделью, усреднённые по тестовому множеству турниров.\n"
   ],
   "metadata": {
    "collapsed": false,
    "pycharm": {
     "name": "#%% md\n"
    }
   }
  },
  {
   "cell_type": "code",
   "execution_count": 8,
   "outputs": [],
   "source": [
    "test_tours = []\n",
    "test_rating = []\n",
    "\n",
    "for tour in test_dataset:\n",
    "    single_test = []\n",
    "    single_rating = []\n",
    "    for team in tour['teams']:\n",
    "        player = [pl for pl in team['members'] if pl in player_to_idx.keys()]\n",
    "        team_test = copy(team)\n",
    "        team_test['members'] = player\n",
    "        if len(player) > 0:\n",
    "            single_test.append(team_test)\n",
    "            team_answers = list(map(int, team['mask']))\n",
    "            team_score = sum(team_answers)\n",
    "            single_rating.append(team_score)\n",
    "    if len(single_test) > 1:\n",
    "        tournament_test = copy(tour)\n",
    "        tournament_test['teams'] = single_test\n",
    "        test_tours.append(tournament_test)\n",
    "        test_rating.append(single_rating)"
   ],
   "metadata": {
    "collapsed": false,
    "pycharm": {
     "name": "#%%\n"
    }
   }
  },
  {
   "cell_type": "code",
   "execution_count": 9,
   "outputs": [
    {
     "name": "stdout",
     "output_type": "stream",
     "text": [
      "[26, 24, 23, 22, 21, 21, 20, 20, 19, 18, 18, 18, 18, 18, 17, 17, 16, 16, 16, 16, 16, 16, 16, 16, 16, 16, 16, 15, 15, 15, 15, 15, 15, 15, 15, 14, 14, 14, 14, 14, 14, 14, 13, 13, 13, 13, 13, 13, 13, 13, 13, 12, 12, 12, 12, 12, 12, 12, 12, 12, 11, 11, 11, 11, 11, 11, 10, 10, 10, 10, 10, 9, 9, 9, 9, 8, 8, 8, 8, 8, 7, 7, 7, 6, 5, 4, 4, 4, 4, 3, 2, 2]\n"
     ]
    }
   ],
   "source": [
    "print(test_rating[0])"
   ],
   "metadata": {
    "collapsed": false,
    "pycharm": {
     "name": "#%%\n"
    }
   }
  },
  {
   "cell_type": "code",
   "execution_count": 10,
   "outputs": [],
   "source": [
    "def predict_tours(model, tours, player_to_idx, shape_1 = X.shape[1]):\n",
    "    pred_rating = []\n",
    "    for tour in tqdm(tours):\n",
    "        preds = []\n",
    "        for team in tour['teams']:\n",
    "            player_idxs = [player_to_idx[pl] for pl in team['members']]\n",
    "            cnt = len(player_idxs)\n",
    "            X = sparse.lil_matrix((cnt, shape_1), dtype=int)\n",
    "            X[range(len(player_idxs)), player_idxs] = 1\n",
    "            bad_probs = model.predict_proba(X)[:, 0]\n",
    "            team_proba = 1 - bad_probs.prod()\n",
    "            preds.append(team_proba)\n",
    "        pred_rating.append(preds)\n",
    "    return pred_rating\n",
    "\n",
    "\n",
    "def calculate_correlations(test_rating, pred_rating):\n",
    "    spm_list = []\n",
    "    kndl_list = []\n",
    "    for i in range(len(test_rating)):\n",
    "        small_spm = stats.spearmanr(test_rating[i], pred_rating[i]).correlation\n",
    "        small_kndl = stats.kendalltau(test_rating[i], pred_rating[i]).correlation\n",
    "        spm_list.append(small_spm)\n",
    "        kndl_list.append(small_kndl)\n",
    "    spm = np.mean(spm_list)\n",
    "    kndl = np.mean(kndl_list)\n",
    "\n",
    "    return spm, kndl\n"
   ],
   "metadata": {
    "collapsed": false,
    "pycharm": {
     "name": "#%%\n"
    }
   }
  },
  {
   "cell_type": "code",
   "execution_count": 11,
   "outputs": [
    {
     "name": "stderr",
     "output_type": "stream",
     "text": [
      "100%|█████████████████████████████████████████████████████████████████████████████████| 170/170 [00:05<00:00, 33.05it/s]\n"
     ]
    }
   ],
   "source": [
    "pred_rating = predict_tours(logreg, test_tours, player_to_idx)"
   ],
   "metadata": {
    "collapsed": false,
    "pycharm": {
     "name": "#%%\n"
    }
   }
  },
  {
   "cell_type": "code",
   "execution_count": 12,
   "outputs": [
    {
     "name": "stdout",
     "output_type": "stream",
     "text": [
      "[0.9999406098231899, 0.9984047244272874, 0.9973978818593005, 0.9992479189040138, 0.9994273481265412, 0.998438362562185, 0.9995279900889108, 0.9935226217726588, 0.9983035208269844, 0.9959420773667446, 0.9979030260604728, 0.9973088520636284, 0.9953271961175565, 0.9797381546940626, 0.9848876888093143, 0.9950319222215798, 0.99772061827645, 0.9812236193667327, 0.9992013465478473, 0.99485831702787, 0.9631499740848918, 0.9988242300332146, 0.998891050151863, 0.9961039453726247, 0.9665973760815029, 0.9865503932357361, 0.9934725690657921, 0.9925886841235306, 0.9867669033987113, 0.9375573869985419, 0.9911250210631889, 0.996003960395624, 0.9990857572288728, 0.9875905378345654, 0.9337387847721693, 0.8921013812261277, 0.9948111398130838, 0.9885398687773117, 0.9847122305360769, 0.9833808894355864, 0.9964525797796392, 0.9786154178281753, 0.985404556965706, 0.9732164984148898, 0.9653369232512387, 0.9899895397267133, 0.9957060087471126, 0.9958704673169604, 0.9873067347560678, 0.9819328167759358, 0.9869231743219377, 0.9910288290716686, 0.9767177602161861, 0.9875776862983512, 0.9745777857825975, 0.9916331671228744, 0.9821837125544369, 0.9715568740684656, 0.9803226045757943, 0.6509163592910345, 0.9805623598326965, 0.9076087415338169, 0.908757286333125, 0.9894488264189397, 0.9859877618478247, 0.8677214412712512, 0.9119556599255907, 0.9754197233199723, 0.9829043901033917, 0.9943209002574844, 0.9790215669787259, 0.96956898799912, 0.9326934167203723, 0.9202130084616391, 0.7067287953944108, 0.9356567054261938, 0.9265384825849011, 0.9827332816765917, 0.9467822328644576, 0.898971483988298, 0.9614817429158848, 0.9841375674836145, 0.446336758035178, 0.9445894495359374, 0.5932341428941588, 0.9487466209755374, 0.9609611197770606, 0.8765239712671308, 0.9256260578830457, 0.7762823233227458, 0.431726994357163, 0.6003043502363627]\n"
     ]
    }
   ],
   "source": [
    "print(pred_rating[0])"
   ],
   "metadata": {
    "collapsed": false,
    "pycharm": {
     "name": "#%%\n"
    }
   }
  },
  {
   "cell_type": "code",
   "execution_count": 13,
   "outputs": [
    {
     "name": "stdout",
     "output_type": "stream",
     "text": [
      "Spearman`s correlation: 0.707\n",
      "Kendall`s correlation: 0.551\n"
     ]
    }
   ],
   "source": [
    "spm, kndl = calculate_correlations(test_rating, pred_rating)\n",
    "\n",
    "print(f'Spearman`s correlation: {round(spm, 3)}')\n",
    "print(f'Kendall`s correlation: {round(kndl, 3)}')"
   ],
   "metadata": {
    "collapsed": false,
    "pycharm": {
     "name": "#%%\n"
    }
   }
  },
  {
   "cell_type": "markdown",
   "source": [
    "# 4. Many-persons account\n",
    "Теперь главное: ЧГК — это всё-таки командная игра. Поэтому:\n",
    "предложите способ учитывать то, что на вопрос отвечают сразу несколько игроков; скорее всего, понадобятся скрытые переменные; не стесняйтесь делать упрощающие предположения, но теперь переменные “игрок X ответил на вопрос Y” при условии данных должны стать зависимыми для игроков одной и той же команды;\n",
    "разработайте EM-схему для обучения этой модели, реализуйте её в коде;\n",
    "обучите несколько итераций, убедитесь, что целевые метрики со временем растут (скорее всего, ненамного, но расти должны), выберите лучшую модель, используя целевые метрики.\n"
   ],
   "metadata": {
    "collapsed": false,
    "pycharm": {
     "name": "#%% md\n"
    }
   }
  },
  {
   "cell_type": "markdown",
   "source": [
    "- Use z as a vector of hidden states -- it consists of player answer porbability provided by team:\n",
    "\n",
    "$$z = P(member=1|team)$$\n",
    "\n",
    "- E-step: predict players answers probabilities provided by team:\n",
    "\n",
    "$$P(member=1|team=1) = \\frac{P(member=1 \\cap team=1)}{P(team=1)} = \\frac{P(team=1 | member=1) P(member=1)}{P(team=1)} = \\frac{P(member=1)}{P(team=1)}$$\n",
    "\n",
    "- M-step: maximize likelihood. Train model on E-step probabilities"
   ],
   "metadata": {
    "collapsed": false,
    "pycharm": {
     "name": "#%% md\n"
    }
   }
  },
  {
   "cell_type": "code",
   "execution_count": 14,
   "outputs": [],
   "source": [
    "class EMProbabilities:\n",
    "    def __init__(self, model):\n",
    "        self.w = np.hstack((model.intercept_, model.coef_[0]))\n",
    "\n",
    "    def fit(self, X, y, max_iters=100_000, lr=10, batch_size=1000, tol=0.0000001):\n",
    "        X = sparse.hstack([np.ones(len(y)).reshape(-1, 1), X], format='csr')\n",
    "\n",
    "        losses = []\n",
    "        prev_mean_loss = np.inf\n",
    "        data_len = X.shape[0]\n",
    "\n",
    "        for i in range(max_iters):\n",
    "            batch_idxs = np.random.choice(data_len, batch_size)\n",
    "            X_batch = X[batch_idxs, :]\n",
    "            y_batch = y[batch_idxs]\n",
    "            preds = expit(X_batch.dot(self.w))\n",
    "            losses.append(self.log_loss(y_batch, preds))\n",
    "            if (i + 1) % 1000 == 0:\n",
    "                new_mean_loss = np.mean(losses)\n",
    "                if (prev_mean_loss - new_mean_loss) < tol:\n",
    "                    #print(f'Fitted. Mean NLL: {new_mean_loss}')\n",
    "                    return new_mean_loss\n",
    "                    #break\n",
    "                losses = []\n",
    "                prev_mean_loss = new_mean_loss\n",
    "\n",
    "            grad = -X_batch.T.dot(y_batch - preds) / len(y_batch)\n",
    "            self.w -= lr * grad\n",
    "\n",
    "    def predict_proba(self, X):\n",
    "        X = sparse.hstack([np.ones(X.shape[0]).reshape(-1, 1), X])\n",
    "        preds = expit(X.dot(self.w))\n",
    "        return np.hstack(((1 - preds).reshape(-1, 1), preds.reshape(-1, 1)))\n",
    "\n",
    "    @staticmethod\n",
    "    def log_loss(y, p):\n",
    "        return -np.mean(y * np.log(p) + (1 - y) * np.log(1 - p))"
   ],
   "metadata": {
    "collapsed": false,
    "pycharm": {
     "name": "#%%\n"
    }
   }
  },
  {
   "cell_type": "code",
   "execution_count": 15,
   "outputs": [
    {
     "name": "stderr",
     "output_type": "stream",
     "text": [
      "100%|█████████████████████████████████████████████████████████████████████████████████| 170/170 [00:08<00:00, 19.56it/s]\n"
     ]
    },
    {
     "name": "stdout",
     "output_type": "stream",
     "text": [
      "Spearman`s correlation: 0.728\n",
      "Kendall`s correlation: 0.571\n",
      "Mean NLL: 0.84\n"
     ]
    },
    {
     "name": "stderr",
     "output_type": "stream",
     "text": [
      "100%|█████████████████████████████████████████████████████████████████████████████████| 170/170 [00:08<00:00, 19.34it/s]\n"
     ]
    },
    {
     "name": "stdout",
     "output_type": "stream",
     "text": [
      "Spearman`s correlation: 0.733\n",
      "Kendall`s correlation: 0.576\n",
      "Mean NLL: 0.528\n"
     ]
    },
    {
     "name": "stderr",
     "output_type": "stream",
     "text": [
      "100%|█████████████████████████████████████████████████████████████████████████████████| 170/170 [00:08<00:00, 19.95it/s]\n"
     ]
    },
    {
     "name": "stdout",
     "output_type": "stream",
     "text": [
      "Spearman`s correlation: 0.741\n",
      "Kendall`s correlation: 0.584\n",
      "Mean NLL: 0.253\n"
     ]
    },
    {
     "name": "stderr",
     "output_type": "stream",
     "text": [
      "100%|█████████████████████████████████████████████████████████████████████████████████| 170/170 [00:08<00:00, 19.91it/s]\n"
     ]
    },
    {
     "name": "stdout",
     "output_type": "stream",
     "text": [
      "Spearman`s correlation: 0.739\n",
      "Kendall`s correlation: 0.581\n",
      "Mean NLL: 0.276\n"
     ]
    },
    {
     "name": "stderr",
     "output_type": "stream",
     "text": [
      "100%|█████████████████████████████████████████████████████████████████████████████████| 170/170 [00:08<00:00, 19.66it/s]\n"
     ]
    },
    {
     "name": "stdout",
     "output_type": "stream",
     "text": [
      "Spearman`s correlation: 0.737\n",
      "Kendall`s correlation: 0.579\n",
      "Mean NLL: 0.291\n"
     ]
    },
    {
     "name": "stderr",
     "output_type": "stream",
     "text": [
      "100%|█████████████████████████████████████████████████████████████████████████████████| 170/170 [00:08<00:00, 20.06it/s]\n"
     ]
    },
    {
     "name": "stdout",
     "output_type": "stream",
     "text": [
      "Spearman`s correlation: 0.736\n",
      "Kendall`s correlation: 0.577\n",
      "Mean NLL: 0.29\n"
     ]
    },
    {
     "name": "stderr",
     "output_type": "stream",
     "text": [
      "100%|█████████████████████████████████████████████████████████████████████████████████| 170/170 [00:10<00:00, 16.63it/s]\n"
     ]
    },
    {
     "name": "stdout",
     "output_type": "stream",
     "text": [
      "Spearman`s correlation: 0.733\n",
      "Kendall`s correlation: 0.575\n",
      "Mean NLL: 0.311\n"
     ]
    },
    {
     "name": "stderr",
     "output_type": "stream",
     "text": [
      "100%|█████████████████████████████████████████████████████████████████████████████████| 170/170 [00:09<00:00, 18.43it/s]\n"
     ]
    },
    {
     "name": "stdout",
     "output_type": "stream",
     "text": [
      "Spearman`s correlation: 0.738\n",
      "Kendall`s correlation: 0.58\n",
      "Mean NLL: 0.438\n"
     ]
    },
    {
     "name": "stderr",
     "output_type": "stream",
     "text": [
      "100%|█████████████████████████████████████████████████████████████████████████████████| 170/170 [00:08<00:00, 19.69it/s]\n"
     ]
    },
    {
     "name": "stdout",
     "output_type": "stream",
     "text": [
      "Spearman`s correlation: 0.733\n",
      "Kendall`s correlation: 0.574\n",
      "Mean NLL: 0.252\n"
     ]
    },
    {
     "name": "stderr",
     "output_type": "stream",
     "text": [
      "100%|█████████████████████████████████████████████████████████████████████████████████| 170/170 [00:08<00:00, 19.71it/s]\n"
     ]
    },
    {
     "name": "stdout",
     "output_type": "stream",
     "text": [
      "Spearman`s correlation: 0.729\n",
      "Kendall`s correlation: 0.571\n",
      "Mean NLL: 0.278\n"
     ]
    }
   ],
   "source": [
    "estimator = EMProbabilities(logreg)\n",
    "\n",
    "spm_list, kndl_list, nll_list = [], [], []\n",
    "\n",
    "\n",
    "for i in range(10):\n",
    "    # E-step\n",
    "    preds = estimator.predict_proba(X)\n",
    "\n",
    "    # Probability provided by team\n",
    "    df_team = pd.DataFrame({'team': team_ids, 'question': questions_idx, 'fail_pred': preds[:, 0], 'success_pred': preds[:, 1]})\n",
    "    df_team_pis = df_team.groupby(['team', 'question']).agg({'fail_pred': 'prod'}).reset_index()\n",
    "    df_team_pis['team_success_pred'] = 1 - df_team_pis['fail_pred']\n",
    "    df_team_pis.drop(columns=['fail_pred'], inplace=True)\n",
    "    df_team = pd.merge(df_team, df_team_pis, left_on=['team', 'question'],  right_on=['team', 'question'])\n",
    "    z = (df_team['success_pred'] / df_team['team_success_pred']).clip(0, 1)\n",
    "\n",
    "    z[y == 0] = 0\n",
    "\n",
    "\n",
    "    # M-step\n",
    "    mean_nll = estimator.fit(X, z, lr=20)\n",
    "    pred_rating = predict_tours(estimator, test_tours, player_to_idx)\n",
    "    spm, kndl = calculate_correlations(test_rating, pred_rating)\n",
    "\n",
    "    spm_list.append(spm)\n",
    "    kndl_list.append(kndl)\n",
    "    nll_list.append(mean_nll)\n",
    "\n",
    "    print(f'Spearman`s correlation: {round(spm, 3)}')\n",
    "    print(f'Kendall`s correlation: {round(kndl, 3)}')\n",
    "    print(f'Mean NLL: {round(mean_nll, 3)}')"
   ],
   "metadata": {
    "collapsed": false,
    "pycharm": {
     "name": "#%%\n"
    }
   }
  },
  {
   "cell_type": "code",
   "execution_count": 16,
   "outputs": [
    {
     "data": {
      "text/plain": "<Figure size 1152x720 with 1 Axes>",
      "image/png": "[encoded data removed]"
     },
     "metadata": {
      "needs_background": "light"
     },
     "output_type": "display_data"
    }
   ],
   "source": [
    "plt.figure(figsize=(16,10))\n",
    "\n",
    "x_list = np.arange(10)\n",
    "\n",
    "plt.plot(x_list, spm_list, \"o-\", label=\"Spearman\")\n",
    "plt.plot(x_list, kndl_list, \"o-\", label=\"Kendall\")\n",
    "plt.plot(x_list, nll_list, \"o-\", label=\"NLL\")\n",
    "\n",
    "plt.xlabel(\"epoch\")\n",
    "plt.ylabel(\"metrics\")\n",
    "plt.grid(True)\n",
    "plt.legend()\n",
    "plt.show()\n"
   ],
   "metadata": {
    "collapsed": false,
    "pycharm": {
     "name": "#%%\n"
    }
   }
  },
  {
   "cell_type": "markdown",
   "source": [
    "# 5. Difficulty list\n",
    "\n",
    "А что там с вопросами? Постройте “рейтинг-лист” турниров по сложности вопросов. Соответствует ли он интуиции (например, на чемпионате мира в целом должны быть сложные вопросы, а на турнирах для школьников — простые)? Если будет интересно: постройте топ сложных и простых вопросов со ссылками на конкретные записи в базе вопросов ЧГК (это чисто техническое дело, тут никакого ML нету).\n"
   ],
   "metadata": {
    "collapsed": false,
    "pycharm": {
     "name": "#%% md\n"
    }
   }
  },
  {
   "cell_type": "code",
   "execution_count": 21,
   "outputs": [],
   "source": [
    "tournament_rating = dict()\n",
    "question_to_tour = dict()\n",
    "questions_count = 0\n",
    "\n",
    "for tournament in train_dataset:\n",
    "    tour_questions_count = len(tournament[\"teams\"][0][\"mask\"])\n",
    "    start_index, end_index = questions_count, questions_count + tour_questions_count\n",
    "    tournament_rating[tournament[\"id\"]] = np.sum(question_rating[start_index: end_index])\n",
    "    for q in range(tour_questions_count):\n",
    "        question_to_tour[questions_count + q] = {\n",
    "            \"tournament_id\": tournament[\"id\"],\n",
    "            \"tournament_name\": tournaments[tournament[\"id\"]][\"name\"],\n",
    "            \"question_num\": q + 1,\n",
    "        }\n",
    "    questions_count += tour_questions_count\n",
    "\n",
    "tournament_rating = sorted(tournament_rating.items(), key=lambda x: x[1])\n",
    "df_tournament_rating = pd.DataFrame(tournament_rating, columns=[\"id\", \"rating\"]).drop(columns=[\"rating\"])\n",
    "df_tournament_rating[\"name\"] = df_tournament_rating[\"id\"].apply(lambda x: tournaments[x][\"name\"])"
   ],
   "metadata": {
    "collapsed": false,
    "pycharm": {
     "name": "#%%\n"
    }
   }
  },
  {
   "cell_type": "code",
   "execution_count": 22,
   "outputs": [
    {
     "data": {
      "text/plain": "       id                                    name\n667  5833                               Memel Cup\n668  5847                   Байкальский фестиваль\n669  6085             Серия Гран-при. Общий зачёт\n670  5462  Синхронный Кубок Ростова - общий зачёт\n671  5817                           Симбирск-Open\n672  5781                         Горький Октябрь\n673  6090                     Дзержинский марафон\n674  5760           Балтийский Берег. Общий зачёт\n675  5405                      Кавалькада волхвов\n676  5827       Шестой киевский марафон. Асинхрон",
      "text/html": "<div>\n<style scoped>\n    .dataframe tbody tr th:only-of-type {\n        vertical-align: middle;\n    }\n\n    .dataframe tbody tr th {\n        vertical-align: top;\n    }\n\n    .dataframe thead th {\n        text-align: right;\n    }\n</style>\n<table border=\"1\" class=\"dataframe\">\n  <thead>\n    <tr style=\"text-align: right;\">\n      <th></th>\n      <th>id</th>\n      <th>name</th>\n    </tr>\n  </thead>\n  <tbody>\n    <tr>\n      <th>667</th>\n      <td>5833</td>\n      <td>Memel Cup</td>\n    </tr>\n    <tr>\n      <th>668</th>\n      <td>5847</td>\n      <td>Байкальский фестиваль</td>\n    </tr>\n    <tr>\n      <th>669</th>\n      <td>6085</td>\n      <td>Серия Гран-при. Общий зачёт</td>\n    </tr>\n    <tr>\n      <th>670</th>\n      <td>5462</td>\n      <td>Синхронный Кубок Ростова - общий зачёт</td>\n    </tr>\n    <tr>\n      <th>671</th>\n      <td>5817</td>\n      <td>Симбирск-Open</td>\n    </tr>\n    <tr>\n      <th>672</th>\n      <td>5781</td>\n      <td>Горький Октябрь</td>\n    </tr>\n    <tr>\n      <th>673</th>\n      <td>6090</td>\n      <td>Дзержинский марафон</td>\n    </tr>\n    <tr>\n      <th>674</th>\n      <td>5760</td>\n      <td>Балтийский Берег. Общий зачёт</td>\n    </tr>\n    <tr>\n      <th>675</th>\n      <td>5405</td>\n      <td>Кавалькада волхвов</td>\n    </tr>\n    <tr>\n      <th>676</th>\n      <td>5827</td>\n      <td>Шестой киевский марафон. Асинхрон</td>\n    </tr>\n  </tbody>\n</table>\n</div>"
     },
     "execution_count": 22,
     "metadata": {},
     "output_type": "execute_result"
    }
   ],
   "source": [
    "df_tournament_rating[-10:]"
   ],
   "metadata": {
    "collapsed": false,
    "pycharm": {
     "name": "#%%\n"
    }
   }
  },
  {
   "cell_type": "code",
   "execution_count": 23,
   "outputs": [
    {
     "data": {
      "text/plain": "     id                                     name\n0  5366             Чемпионат Ростовской области\n1  5266                          Холодная голова\n2  5369                          Благородный Дон\n3  5185   Игра Первопрестольной. Четвёртый сезон\n4  5325                                 Славянка\n5  5384                          Поволжская лига\n6  5298                       Нехрустальная Сова\n7  5343                            Кубок Физтеха\n8  5110  Серия Гран-при. 7 этап. Гран-при России\n9  5008        Школьный Синхрон-lite. Выпуск 2.3",
      "text/html": "<div>\n<style scoped>\n    .dataframe tbody tr th:only-of-type {\n        vertical-align: middle;\n    }\n\n    .dataframe tbody tr th {\n        vertical-align: top;\n    }\n\n    .dataframe thead th {\n        text-align: right;\n    }\n</style>\n<table border=\"1\" class=\"dataframe\">\n  <thead>\n    <tr style=\"text-align: right;\">\n      <th></th>\n      <th>id</th>\n      <th>name</th>\n    </tr>\n  </thead>\n  <tbody>\n    <tr>\n      <th>0</th>\n      <td>5366</td>\n      <td>Чемпионат Ростовской области</td>\n    </tr>\n    <tr>\n      <th>1</th>\n      <td>5266</td>\n      <td>Холодная голова</td>\n    </tr>\n    <tr>\n      <th>2</th>\n      <td>5369</td>\n      <td>Благородный Дон</td>\n    </tr>\n    <tr>\n      <th>3</th>\n      <td>5185</td>\n      <td>Игра Первопрестольной. Четвёртый сезон</td>\n    </tr>\n    <tr>\n      <th>4</th>\n      <td>5325</td>\n      <td>Славянка</td>\n    </tr>\n    <tr>\n      <th>5</th>\n      <td>5384</td>\n      <td>Поволжская лига</td>\n    </tr>\n    <tr>\n      <th>6</th>\n      <td>5298</td>\n      <td>Нехрустальная Сова</td>\n    </tr>\n    <tr>\n      <th>7</th>\n      <td>5343</td>\n      <td>Кубок Физтеха</td>\n    </tr>\n    <tr>\n      <th>8</th>\n      <td>5110</td>\n      <td>Серия Гран-при. 7 этап. Гран-при России</td>\n    </tr>\n    <tr>\n      <th>9</th>\n      <td>5008</td>\n      <td>Школьный Синхрон-lite. Выпуск 2.3</td>\n    </tr>\n  </tbody>\n</table>\n</div>"
     },
     "execution_count": 23,
     "metadata": {},
     "output_type": "execute_result"
    }
   ],
   "source": [
    "df_tournament_rating[:10]"
   ],
   "metadata": {
    "collapsed": false,
    "pycharm": {
     "name": "#%%\n"
    }
   }
  },
  {
   "cell_type": "code",
   "execution_count": null,
   "outputs": [],
   "source": [],
   "metadata": {
    "collapsed": false,
    "pycharm": {
     "name": "#%%\n"
    }
   }
  }
 ],
 "metadata": {
  "kernelspec": {
   "display_name": "Python 3",
   "language": "python",
   "name": "python3"
  },
  "language_info": {
   "codemirror_mode": {
    "name": "ipython",
    "version": 2
   },
   "file_extension": ".py",
   "mimetype": "text/x-python",
   "name": "python",
   "nbconvert_exporter": "python",
   "pygments_lexer": "ipython2",
   "version": "2.7.6"
  }
 },
 "nbformat": 4,
 "nbformat_minor": 0
}